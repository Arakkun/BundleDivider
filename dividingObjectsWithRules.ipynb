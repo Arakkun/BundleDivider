{
 "cells": [
  {
   "cell_type": "markdown",
   "metadata": {},
   "source": [
    "# Input \n",
    "Input will be done with (objects+1) x (member+1) table, where each row contains an object and it's ranking. First row has the name for the members (+ the \"type\" of objects)\n",
    "This can be use as an experiment for the typing recently introduced in Python"
   ]
  },
  {
   "cell_type": "code",
   "execution_count": 1,
   "metadata": {},
   "outputs": [],
   "source": [
    "from typing import Union\n",
    "import numpy as np\n",
    "import numpy.typing as npt\n",
    "from IPython.display import Markdown, display\n",
    "def printWithMarkdown(string):\n",
    "    display(Markdown(string))\n",
    " \n",
    "InputRanking: npt.ArrayLike = np.array([\n",
    "    [\"Game\",                            \"Alessio\",  \"Marco\",    \"Andrea\"],\n",
    "    [\"Ghostrunner\",                     5,          3,          2],\n",
    "    [\"Monster Sanctuary\",               2,          2,          6],\n",
    "    [\"Naruto to Boruto: Shinobi Striker\", 1,         8,          1],\n",
    "    [\"Killsquad\",                       3,          5,          3],\n",
    "    [\"Destroy All Humans!\",             4,          4,          4],\n",
    "    [\"Chicken Police\",                  8,          1,          8],\n",
    "    [\"Rougue Heroes\",                   6,          6,          5],\n",
    "    [\"Suzerain\",                        7,          7,          7]\n",
    "])"
   ]
  },
  {
   "cell_type": "code",
   "execution_count": 2,
   "metadata": {},
   "outputs": [
    {
     "data": {
      "text/html": [
       "<div>\n",
       "<style scoped>\n",
       "    .dataframe tbody tr th:only-of-type {\n",
       "        vertical-align: middle;\n",
       "    }\n",
       "\n",
       "    .dataframe tbody tr th {\n",
       "        vertical-align: top;\n",
       "    }\n",
       "\n",
       "    .dataframe thead th {\n",
       "        text-align: right;\n",
       "    }\n",
       "</style>\n",
       "<table border=\"1\" class=\"dataframe\">\n",
       "  <thead>\n",
       "    <tr style=\"text-align: right;\">\n",
       "      <th></th>\n",
       "      <th>Alessio</th>\n",
       "      <th>Marco</th>\n",
       "      <th>Andrea</th>\n",
       "    </tr>\n",
       "  </thead>\n",
       "  <tbody>\n",
       "    <tr>\n",
       "      <th>Ghostrunner</th>\n",
       "      <td>5</td>\n",
       "      <td>3</td>\n",
       "      <td>2</td>\n",
       "    </tr>\n",
       "    <tr>\n",
       "      <th>Monster Sanctuary</th>\n",
       "      <td>2</td>\n",
       "      <td>2</td>\n",
       "      <td>6</td>\n",
       "    </tr>\n",
       "    <tr>\n",
       "      <th>Naruto to Boruto: Shinobi Striker</th>\n",
       "      <td>1</td>\n",
       "      <td>8</td>\n",
       "      <td>1</td>\n",
       "    </tr>\n",
       "    <tr>\n",
       "      <th>Killsquad</th>\n",
       "      <td>3</td>\n",
       "      <td>5</td>\n",
       "      <td>3</td>\n",
       "    </tr>\n",
       "    <tr>\n",
       "      <th>Destroy All Humans!</th>\n",
       "      <td>4</td>\n",
       "      <td>4</td>\n",
       "      <td>4</td>\n",
       "    </tr>\n",
       "    <tr>\n",
       "      <th>Chicken Police</th>\n",
       "      <td>8</td>\n",
       "      <td>1</td>\n",
       "      <td>8</td>\n",
       "    </tr>\n",
       "    <tr>\n",
       "      <th>Rougue Heroes</th>\n",
       "      <td>6</td>\n",
       "      <td>6</td>\n",
       "      <td>5</td>\n",
       "    </tr>\n",
       "    <tr>\n",
       "      <th>Suzerain</th>\n",
       "      <td>7</td>\n",
       "      <td>7</td>\n",
       "      <td>7</td>\n",
       "    </tr>\n",
       "  </tbody>\n",
       "</table>\n",
       "</div>"
      ],
      "text/plain": [
       "                                  Alessio Marco Andrea\n",
       "Ghostrunner                             5     3      2\n",
       "Monster Sanctuary                       2     2      6\n",
       "Naruto to Boruto: Shinobi Striker       1     8      1\n",
       "Killsquad                               3     5      3\n",
       "Destroy All Humans!                     4     4      4\n",
       "Chicken Police                          8     1      8\n",
       "Rougue Heroes                           6     6      5\n",
       "Suzerain                                7     7      7"
      ]
     },
     "execution_count": 2,
     "metadata": {},
     "output_type": "execute_result"
    }
   ],
   "source": [
    "import pandas as pd\n",
    "\n",
    "dfRanking: pd.DataFrame = pd.DataFrame(\n",
    "    InputRanking[1:, 1:], index=InputRanking[1:, 0], columns=InputRanking[0, 1:])\n",
    "dfRanking\n"
   ]
  },
  {
   "cell_type": "markdown",
   "metadata": {},
   "source": [
    "# State management\n",
    "Data will be processed using \"Rules\", formed by a \"condition\" that will be verified and an \"application\".\n",
    "State is formed by the \"rankings\" and the \"assigned objects\". "
   ]
  },
  {
   "cell_type": "code",
   "execution_count": 3,
   "metadata": {},
   "outputs": [],
   "source": [
    "from copy import deepcopy\n",
    "from IPython.display import display\n",
    "from typing import Tuple\n",
    "\n",
    "# Fills list\n",
    "def padList (inputList:list, length:int, padWith=\"\"):\n",
    "    return inputList + [padWith]*max(length - len(inputList), 0)\n",
    "\n",
    "# Generates all possible combinations\n",
    "def numpy_combinations(x): \n",
    "    idx = np.stack(np.triu_indices(len(x), k=1), axis=-1)\n",
    "    return x[idx]\n",
    "\n",
    "class Division:\n",
    "    objects: npt.ArrayLike\n",
    "    members: npt.ArrayLike\n",
    "    objectType: str\n",
    "    rankings: npt.ArrayLike\n",
    "    divisions: dict[str, list[str]]\n",
    "    counts: npt.ArrayLike\n",
    "    toAssign: npt.ArrayLike\n",
    "    enabledPriority: npt.ArrayLike\n",
    "\n",
    "    #Initializes it all\n",
    "    def __init__(self, matrix: np.array = [[\"ObjectType\", \"Object\"], [\"ObjectA\", 1]], toAssign=None):\n",
    "        self.objects = matrix[1:, 0]\n",
    "        self.members = matrix[0, 1:]\n",
    "        self.objectType = matrix[0, 0]\n",
    "        self.rankings = matrix[1:, 1:].astype(np.int8)\n",
    "        self.divisions = {member: [] for member in self.members} # Current Division\n",
    "        self.counts = np.zeros(self.members.shape, dtype=np.int8) # Current Counts for distributed objects\n",
    "        if(toAssign==None):\n",
    "            obj_per_member = np.floor(self.objects.shape[0]/self.members.shape[0])\n",
    "            remaining = self.objects.shape[0] - self.members.shape[0]*obj_per_member\n",
    "            self.toAssign = np.array([obj_per_member+remaining]+(self.members.shape[0]-1)*[obj_per_member])\n",
    "        self.enabledPriority = np.ones_like(self.members, dtype=np.int8) # Whether priority is enabled\n",
    "    def allDivided(self)->bool:\n",
    "        return self.objects.shape[0] == 0\n",
    "    def remaining(self):\n",
    "        return self.toAssign - self.counts\n",
    "    def print(self):\n",
    "        maxAssigned = np.max(self.counts)\n",
    "        with pd.option_context('display.max_rows', None,\n",
    "                       'display.max_columns', None,\n",
    "                       'display.precision', 3,\n",
    "                       ):\n",
    "            printWithMarkdown(pd.DataFrame(self.rankings, index=self.objects, columns=self.members).to_markdown())\n",
    "            printWithMarkdown(pd.DataFrame({member:padList(inputList=self.divisions[member],length=maxAssigned,padWith=\"\") for member in self.members}).to_markdown())\n",
    "\n",
    "    def getPrioritized(self):\n",
    "        return (self.rankings <= self.remaining()*self.enabledPriority)\n",
    "\n",
    "    def firstConflict(self, checkEnoughRemaining=True) -> Tuple[str,npt.ArrayLike]:\n",
    "        # Take first conflict after ordering\n",
    "        self.order()\n",
    "        prioritized = self.getPrioritized()\n",
    "        conflicts = np.argwhere(prioritized.sum(axis=1)>=2).flatten()\n",
    "        remainingGames = self.remaining()\n",
    "        # Make a list of members in conflict for each member\n",
    "        isInConflict = np.zeros((self.members.shape[0],self.members.shape[0]))\n",
    "        for i in conflicts:\n",
    "            membersInConflict = np.argwhere(prioritized[i]==True).flatten()\n",
    "            for (mA, mB) in numpy_combinations(membersInConflict):\n",
    "                isInConflict[mA,mB] = 1\n",
    "                isInConflict[mB,mA] = 1\n",
    "\n",
    "        for i in conflicts:\n",
    "            enoughRemainingGames = True\n",
    "            membersInConflict = np.argwhere(np.sum(prioritized[i,:]*isInConflict, axis=1)>0)\n",
    "            # And see whether there are enough remaining games\n",
    "            for j in membersInConflict:\n",
    "                if(remainingGames[j]<=1):\n",
    "                    enoughRemainingGames = False | (not checkEnoughRemaining)\n",
    "                    break\n",
    "            if (enoughRemainingGames):\n",
    "                return (self.objects[i], np.argwhere(prioritized[i]==True).flatten())\n",
    "        return ()\n",
    "\n",
    "    def order(self):\n",
    "        summedPriority = self.rankings.sum(axis=1)\n",
    "        reordered = np.lexsort((self.objects, summedPriority))\n",
    "        self.objects = self.objects[reordered]\n",
    "        self.rankings = self.rankings[reordered,:]\n",
    "    \n",
    "    def disablePriority(self, member):\n",
    "        index = np.argwhere(self.members==member)[0][0]\n",
    "        self.enabledPriority[index]=0\n",
    "\n",
    "    def assignObject(self, assignedObject: str, receiver: str):\n",
    "        objIndex = np.argwhere(self.objects == assignedObject)[0][0]\n",
    "        deletedRankings = self.rankings[objIndex, :]\n",
    "        newState: Division = deepcopy(self)\n",
    "        newState.objectType = self.objectType\n",
    "        newState.objects = np.delete(self.objects, obj=objIndex)\n",
    "        newState.rankings = np.delete(self.rankings, axis=0, obj=objIndex)\n",
    "        newState.divisions[receiver].append(assignedObject)\n",
    "        index = np.argwhere(newState.members==receiver)[0][0]\n",
    "        newState.counts[index] = newState.counts[index] + 1\n",
    "        newState.rankings = newState.rankings - 1 * \\\n",
    "            (newState.rankings > np.tile(\n",
    "                deletedRankings, (newState.objects.shape[0], 1)))\n",
    "        newState.enabledPriority = np.ones_like(self.members, dtype=np.int8)\n",
    "        return newState\n"
   ]
  },
  {
   "cell_type": "code",
   "execution_count": 4,
   "metadata": {},
   "outputs": [],
   "source": [
    "from typing import  Union\n",
    "# this is basically an abstract class\n",
    "class Rule:\n",
    "    # constructor\n",
    "    def __init__(self):\n",
    "        pass\n",
    "\n",
    "    # checkConditions takes currentState and returns true or false\n",
    "    def checkConditions(self, state: Division) -> bool:\n",
    "        return false\n",
    "\n",
    "    # applies rules\n",
    "    def apply(self, state: Division) -> list[Division]:\n",
    "        return state\n",
    "\n",
    "    # refresh rules based on current states\n",
    "    def refresh(self, states):\n",
    "        pass"
   ]
  },
  {
   "cell_type": "markdown",
   "metadata": {},
   "source": [
    "## Forcefully assign Obj_X to Member_A"
   ]
  },
  {
   "cell_type": "code",
   "execution_count": 5,
   "metadata": {},
   "outputs": [],
   "source": [
    "# Force Assign a object\n",
    "class ForceAssign(Rule):\n",
    "    selectedObject:str\n",
    "    member:str\n",
    "    executed:bool\n",
    "    def __init__(self, selectedObject: str, member: str):\n",
    "        self.selectedObject = selectedObject\n",
    "        self.member = member\n",
    "        self.executed = False\n",
    "\n",
    "    def checkConditions(self, state: Division) -> bool:\n",
    "        if(not self.executed):\n",
    "            return ((np.isin(state.members, element=self.member, assume_unique=True)) &\n",
    "                    (np.isin(state.objects, element=self.selectedObject, assume_unique=True)))\n",
    "        else:\n",
    "            return False\n",
    "\n",
    "    def apply(self, state: Division) -> list[Division]:\n",
    "        self.executed = True\n",
    "        return [state.assignObject(self.selectedObject, self.member)]\n",
    "\n",
    "    def refresh(self, states):\n",
    "        if(len(states)==1):\n",
    "            self.executed = False\n"
   ]
  },
  {
   "cell_type": "code",
   "execution_count": 6,
   "metadata": {},
   "outputs": [],
   "source": [
    "forceAssignKillsquad: Rule = ForceAssign(\"Killsquad\", \"Marco\")\n",
    "state = Division(matrix=InputRanking)\n",
    "newState = forceAssignKillsquad.apply(state)\n"
   ]
  },
  {
   "cell_type": "code",
   "execution_count": 7,
   "metadata": {},
   "outputs": [
    {
     "data": {
      "text/markdown": [
       "|                                   |   Alessio |   Marco |   Andrea |\n",
       "|:----------------------------------|----------:|--------:|---------:|\n",
       "| Ghostrunner                       |         5 |       3 |        2 |\n",
       "| Monster Sanctuary                 |         2 |       2 |        6 |\n",
       "| Naruto to Boruto: Shinobi Striker |         1 |       8 |        1 |\n",
       "| Killsquad                         |         3 |       5 |        3 |\n",
       "| Destroy All Humans!               |         4 |       4 |        4 |\n",
       "| Chicken Police                    |         8 |       1 |        8 |\n",
       "| Rougue Heroes                     |         6 |       6 |        5 |\n",
       "| Suzerain                          |         7 |       7 |        7 |"
      ],
      "text/plain": [
       "<IPython.core.display.Markdown object>"
      ]
     },
     "metadata": {},
     "output_type": "display_data"
    },
    {
     "data": {
      "text/markdown": [
       "| Alessio   | Marco   | Andrea   |\n",
       "|-----------|---------|----------|"
      ],
      "text/plain": [
       "<IPython.core.display.Markdown object>"
      ]
     },
     "metadata": {},
     "output_type": "display_data"
    },
    {
     "name": "stdout",
     "output_type": "stream",
     "text": [
      "Asssigned KillSquad to Marco\n"
     ]
    },
    {
     "data": {
      "text/markdown": [
       "|                                   |   Alessio |   Marco |   Andrea |\n",
       "|:----------------------------------|----------:|--------:|---------:|\n",
       "| Ghostrunner                       |         4 |       3 |        2 |\n",
       "| Monster Sanctuary                 |         2 |       2 |        5 |\n",
       "| Naruto to Boruto: Shinobi Striker |         1 |       7 |        1 |\n",
       "| Destroy All Humans!               |         3 |       4 |        3 |\n",
       "| Chicken Police                    |         7 |       1 |        7 |\n",
       "| Rougue Heroes                     |         5 |       5 |        4 |\n",
       "| Suzerain                          |         6 |       6 |        6 |"
      ],
      "text/plain": [
       "<IPython.core.display.Markdown object>"
      ]
     },
     "metadata": {},
     "output_type": "display_data"
    },
    {
     "data": {
      "text/markdown": [
       "|    | Alessio   | Marco     | Andrea   |\n",
       "|---:|:----------|:----------|:---------|\n",
       "|  0 |           | Killsquad |          |"
      ],
      "text/plain": [
       "<IPython.core.display.Markdown object>"
      ]
     },
     "metadata": {},
     "output_type": "display_data"
    }
   ],
   "source": [
    "state.print()\n",
    "print(\"Asssigned KillSquad to Marco\")\n",
    "newState[0].print()"
   ]
  },
  {
   "cell_type": "markdown",
   "metadata": {},
   "source": [
    "## Assign highest ranked object to Member_A"
   ]
  },
  {
   "cell_type": "code",
   "execution_count": 8,
   "metadata": {},
   "outputs": [],
   "source": [
    "class AssignMostWanted(Rule):\n",
    "    member:str\n",
    "    executed:bool\n",
    "    def __init__(self, member: str):\n",
    "        self.member = member\n",
    "        self.executed = False\n",
    "\n",
    "    def checkConditions(self, state: Division) -> bool:\n",
    "        if(not self.executed):\n",
    "            return (np.any(np.isin(element=state.members, test_elements=self.member, assume_unique=True)) &\n",
    "                    (state.objects.shape[0]>0))\n",
    "        else:\n",
    "            return False\n",
    "\n",
    "    def apply(self, state: Division) -> list[Division]:\n",
    "        self.executed = True\n",
    "        memberIndex = np.argwhere(state.members==self.member)[0][0]\n",
    "        gameIndex = np.argwhere(state.rankings[:,memberIndex]==1)[0][0]\n",
    "        return [state.assignObject(state.objects[gameIndex], self.member)]\n",
    "\n",
    "    def refresh(self, states):\n",
    "        if(len(states)==1):\n",
    "            self.executed = False\n"
   ]
  },
  {
   "cell_type": "code",
   "execution_count": 9,
   "metadata": {},
   "outputs": [],
   "source": [
    "assignMostWanted: Rule = AssignMostWanted(\"Alessio\")\n",
    "state = Division(matrix=InputRanking)\n",
    "newState = assignMostWanted.apply(state)"
   ]
  },
  {
   "cell_type": "code",
   "execution_count": 10,
   "metadata": {},
   "outputs": [
    {
     "data": {
      "text/markdown": [
       "|                                   |   Alessio |   Marco |   Andrea |\n",
       "|:----------------------------------|----------:|--------:|---------:|\n",
       "| Ghostrunner                       |         5 |       3 |        2 |\n",
       "| Monster Sanctuary                 |         2 |       2 |        6 |\n",
       "| Naruto to Boruto: Shinobi Striker |         1 |       8 |        1 |\n",
       "| Killsquad                         |         3 |       5 |        3 |\n",
       "| Destroy All Humans!               |         4 |       4 |        4 |\n",
       "| Chicken Police                    |         8 |       1 |        8 |\n",
       "| Rougue Heroes                     |         6 |       6 |        5 |\n",
       "| Suzerain                          |         7 |       7 |        7 |"
      ],
      "text/plain": [
       "<IPython.core.display.Markdown object>"
      ]
     },
     "metadata": {},
     "output_type": "display_data"
    },
    {
     "data": {
      "text/markdown": [
       "| Alessio   | Marco   | Andrea   |\n",
       "|-----------|---------|----------|"
      ],
      "text/plain": [
       "<IPython.core.display.Markdown object>"
      ]
     },
     "metadata": {},
     "output_type": "display_data"
    },
    {
     "name": "stdout",
     "output_type": "stream",
     "text": [
      "Asssigned 1st place game for Alessio\n"
     ]
    },
    {
     "data": {
      "text/markdown": [
       "|                     |   Alessio |   Marco |   Andrea |\n",
       "|:--------------------|----------:|--------:|---------:|\n",
       "| Ghostrunner         |         4 |       3 |        1 |\n",
       "| Monster Sanctuary   |         1 |       2 |        5 |\n",
       "| Killsquad           |         2 |       5 |        2 |\n",
       "| Destroy All Humans! |         3 |       4 |        3 |\n",
       "| Chicken Police      |         7 |       1 |        7 |\n",
       "| Rougue Heroes       |         5 |       6 |        4 |\n",
       "| Suzerain            |         6 |       7 |        6 |"
      ],
      "text/plain": [
       "<IPython.core.display.Markdown object>"
      ]
     },
     "metadata": {},
     "output_type": "display_data"
    },
    {
     "data": {
      "text/markdown": [
       "|    | Alessio                           | Marco   | Andrea   |\n",
       "|---:|:----------------------------------|:--------|:---------|\n",
       "|  0 | Naruto to Boruto: Shinobi Striker |         |          |"
      ],
      "text/plain": [
       "<IPython.core.display.Markdown object>"
      ]
     },
     "metadata": {},
     "output_type": "display_data"
    }
   ],
   "source": [
    "state.print()\n",
    "print(\"Asssigned 1st place game for Alessio\")\n",
    "newState[0].print()"
   ]
  },
  {
   "cell_type": "markdown",
   "metadata": {},
   "source": [
    "## Assign object without conflict"
   ]
  },
  {
   "cell_type": "code",
   "execution_count": 11,
   "metadata": {},
   "outputs": [],
   "source": [
    "class AssignNoConflict(Rule):\n",
    "    upper_bound: npt.ArrayLike\n",
    "\n",
    "    def __init__(self):\n",
    "        pass\n",
    "\n",
    "    def checkConditions(self, state: Division) -> bool:\n",
    "        prioritized = state.getPrioritized()\n",
    "        # Conflict happens when prioritized.sum(axis=1) >= 2\n",
    "        # No Conflict if ==1\n",
    "        return np.any(prioritized.sum(axis=1) == 1)\n",
    "\n",
    "    def apply(self, state: Division) -> list[Division]:\n",
    "        prioritized = state.getPrioritized()\n",
    "        prioritizedSum = prioritized.sum(axis=1)\n",
    "        assigned = 0\n",
    "        for i in range(prioritizedSum.shape[0]):\n",
    "            if(prioritizedSum[i] == 1):\n",
    "                state = state.assignObject(\n",
    "                    state.objects[i-assigned], state.members[np.argwhere(prioritized[i, :] == True)[0, 0]])\n",
    "                assigned = assigned+1\n",
    "        return [state]\n",
    "    \n",
    "    def refresh(self, states):\n",
    "        pass"
   ]
  },
  {
   "cell_type": "code",
   "execution_count": 12,
   "metadata": {},
   "outputs": [],
   "source": [
    "assignNoConflict: Rule = AssignNoConflict()\n",
    "state = Division(matrix=InputRanking)\n",
    "newState = assignNoConflict.apply(state)"
   ]
  },
  {
   "cell_type": "code",
   "execution_count": 13,
   "metadata": {},
   "outputs": [
    {
     "data": {
      "text/markdown": [
       "|                                   |   Alessio |   Marco |   Andrea |\n",
       "|:----------------------------------|----------:|--------:|---------:|\n",
       "| Ghostrunner                       |         5 |       3 |        2 |\n",
       "| Monster Sanctuary                 |         2 |       2 |        6 |\n",
       "| Naruto to Boruto: Shinobi Striker |         1 |       8 |        1 |\n",
       "| Killsquad                         |         3 |       5 |        3 |\n",
       "| Destroy All Humans!               |         4 |       4 |        4 |\n",
       "| Chicken Police                    |         8 |       1 |        8 |\n",
       "| Rougue Heroes                     |         6 |       6 |        5 |\n",
       "| Suzerain                          |         7 |       7 |        7 |"
      ],
      "text/plain": [
       "<IPython.core.display.Markdown object>"
      ]
     },
     "metadata": {},
     "output_type": "display_data"
    },
    {
     "data": {
      "text/markdown": [
       "| Alessio   | Marco   | Andrea   |\n",
       "|-----------|---------|----------|"
      ],
      "text/plain": [
       "<IPython.core.display.Markdown object>"
      ]
     },
     "metadata": {},
     "output_type": "display_data"
    },
    {
     "name": "stdout",
     "output_type": "stream",
     "text": [
      "Asssigned non prioritized games\n"
     ]
    },
    {
     "data": {
      "text/markdown": [
       "|                                   |   Alessio |   Marco |   Andrea |\n",
       "|:----------------------------------|----------:|--------:|---------:|\n",
       "| Monster Sanctuary                 |         2 |       1 |        3 |\n",
       "| Naruto to Boruto: Shinobi Striker |         1 |       4 |        1 |\n",
       "| Rougue Heroes                     |         3 |       2 |        2 |\n",
       "| Suzerain                          |         4 |       3 |        4 |"
      ],
      "text/plain": [
       "<IPython.core.display.Markdown object>"
      ]
     },
     "metadata": {},
     "output_type": "display_data"
    },
    {
     "data": {
      "text/markdown": [
       "|    | Alessio             | Marco          | Andrea      |\n",
       "|---:|:--------------------|:---------------|:------------|\n",
       "|  0 | Killsquad           | Chicken Police | Ghostrunner |\n",
       "|  1 | Destroy All Humans! |                |             |"
      ],
      "text/plain": [
       "<IPython.core.display.Markdown object>"
      ]
     },
     "metadata": {},
     "output_type": "display_data"
    }
   ],
   "source": [
    "state.print()\n",
    "print(\"Asssigned non prioritized games\")\n",
    "newState[0].print()"
   ]
  },
  {
   "cell_type": "markdown",
   "metadata": {},
   "source": [
    "## Starting Line Conflict\n",
    "When there's a conflict between 2 or more members, and all of them have more than one object to Assign, create cases where the conflicted object has been assigned to each"
   ]
  },
  {
   "cell_type": "code",
   "execution_count": 14,
   "metadata": {},
   "outputs": [],
   "source": [
    "from typing import Tuple\n",
    "class StartingLineConflict(Rule):\n",
    "    def __init__(self):\n",
    "        pass\n",
    "\n",
    "    def checkConditions(self, state: Division) -> bool:\n",
    "        return state.firstConflict()!=()\n",
    "            \n",
    "    def apply(self, state: Division) -> list[Division]:\n",
    "        firstConflict, conflictedMembers = state.firstConflict()\n",
    "        states = [state.assignObject(firstConflict, state.members[i]) for i in conflictedMembers]\n",
    "        for i in range(len(states)):\n",
    "            states[i].disablePriority(state.members[conflictedMembers[i]])\n",
    "        return states\n",
    "\n",
    "    def refresh(self, states):\n",
    "        pass"
   ]
  },
  {
   "cell_type": "code",
   "execution_count": 15,
   "metadata": {},
   "outputs": [],
   "source": [
    "startingLineConflict: Rule = StartingLineConflict()\n",
    "state = Division(matrix=InputRanking)\n",
    "newStates = startingLineConflict.apply(state)"
   ]
  },
  {
   "cell_type": "code",
   "execution_count": 16,
   "metadata": {},
   "outputs": [
    {
     "data": {
      "text/markdown": [
       "|                                   |   Alessio |   Marco |   Andrea |\n",
       "|:----------------------------------|----------:|--------:|---------:|\n",
       "| Ghostrunner                       |         5 |       3 |        2 |\n",
       "| Monster Sanctuary                 |         2 |       2 |        6 |\n",
       "| Naruto to Boruto: Shinobi Striker |         1 |       8 |        1 |\n",
       "| Killsquad                         |         3 |       5 |        3 |\n",
       "| Destroy All Humans!               |         4 |       4 |        4 |\n",
       "| Chicken Police                    |         8 |       1 |        8 |\n",
       "| Rougue Heroes                     |         6 |       6 |        5 |\n",
       "| Suzerain                          |         7 |       7 |        7 |"
      ],
      "text/plain": [
       "<IPython.core.display.Markdown object>"
      ]
     },
     "metadata": {},
     "output_type": "display_data"
    },
    {
     "data": {
      "text/markdown": [
       "| Alessio   | Marco   | Andrea   |\n",
       "|-----------|---------|----------|"
      ],
      "text/plain": [
       "<IPython.core.display.Markdown object>"
      ]
     },
     "metadata": {},
     "output_type": "display_data"
    },
    {
     "name": "stdout",
     "output_type": "stream",
     "text": [
      "Created two states where game is assigned to different person\n"
     ]
    },
    {
     "data": {
      "text/markdown": [
       "|                                   |   Alessio |   Marco |   Andrea |\n",
       "|:----------------------------------|----------:|--------:|---------:|\n",
       "| Ghostrunner                       |         4 |       2 |        2 |\n",
       "| Naruto to Boruto: Shinobi Striker |         1 |       7 |        1 |\n",
       "| Killsquad                         |         2 |       4 |        3 |\n",
       "| Destroy All Humans!               |         3 |       3 |        4 |\n",
       "| Chicken Police                    |         7 |       1 |        7 |\n",
       "| Rougue Heroes                     |         5 |       5 |        5 |\n",
       "| Suzerain                          |         6 |       6 |        6 |"
      ],
      "text/plain": [
       "<IPython.core.display.Markdown object>"
      ]
     },
     "metadata": {},
     "output_type": "display_data"
    },
    {
     "data": {
      "text/markdown": [
       "|    | Alessio           | Marco   | Andrea   |\n",
       "|---:|:------------------|:--------|:---------|\n",
       "|  0 | Monster Sanctuary |         |          |"
      ],
      "text/plain": [
       "<IPython.core.display.Markdown object>"
      ]
     },
     "metadata": {},
     "output_type": "display_data"
    },
    {
     "data": {
      "text/markdown": [
       "|                                   |   Alessio |   Marco |   Andrea |\n",
       "|:----------------------------------|----------:|--------:|---------:|\n",
       "| Ghostrunner                       |         4 |       2 |        2 |\n",
       "| Naruto to Boruto: Shinobi Striker |         1 |       7 |        1 |\n",
       "| Killsquad                         |         2 |       4 |        3 |\n",
       "| Destroy All Humans!               |         3 |       3 |        4 |\n",
       "| Chicken Police                    |         7 |       1 |        7 |\n",
       "| Rougue Heroes                     |         5 |       5 |        5 |\n",
       "| Suzerain                          |         6 |       6 |        6 |"
      ],
      "text/plain": [
       "<IPython.core.display.Markdown object>"
      ]
     },
     "metadata": {},
     "output_type": "display_data"
    },
    {
     "data": {
      "text/markdown": [
       "|    | Alessio   | Marco             | Andrea   |\n",
       "|---:|:----------|:------------------|:---------|\n",
       "|  0 |           | Monster Sanctuary |          |"
      ],
      "text/plain": [
       "<IPython.core.display.Markdown object>"
      ]
     },
     "metadata": {},
     "output_type": "display_data"
    }
   ],
   "source": [
    "state.print()\n",
    "print(\"Created two states where game is assigned to different person\")\n",
    "newStates[0].print()\n",
    "newStates[1].print()"
   ]
  },
  {
   "cell_type": "markdown",
   "metadata": {},
   "source": [
    "## X Conflict\n",
    "there are two object in conflict between the same two member where both have one first and one second place between each"
   ]
  },
  {
   "cell_type": "code",
   "execution_count": 17,
   "metadata": {},
   "outputs": [],
   "source": [
    "XRanking: npt.ArrayLike = np.array([\n",
    "    [\"Game\",                            \"Alessio\",  \"Marco\",    \"Andrea\"],\n",
    "    [\"Ghostrunner\",                     1,          2,          4],\n",
    "    [\"Monster Sanctuary\",               2,          1,          3],\n",
    "    [\"Naruto to Boruto: Shinobi Striker\", 3,         3,          2],\n",
    "    [\"Killsquad\",                       4,          4,          1],\n",
    "    [\"KillsquadA\",                       5,          5,          5],\n",
    "    [\"KillsquadB\",                       6,          6,          6]\n",
    "])\n",
    "\n",
    "# \"Ghostrunner\" and \"Monster Sanctuary\" are in conflict between Alessio and Marco"
   ]
  },
  {
   "cell_type": "code",
   "execution_count": 18,
   "metadata": {},
   "outputs": [],
   "source": [
    "class XConflict(Rule):\n",
    "    def __init__(self):\n",
    "        pass\n",
    "\n",
    "    def checkConditions(self, state: Division) -> bool:\n",
    "        return self.xConflict(state)!=()\n",
    "\n",
    "    def xConflict(self, state: Division) -> Tuple[Tuple[str,str],Tuple[str,str]]:\n",
    "        # Check users who have enough games to be assigned. There should be at least 2 for 2 or more members\n",
    "        remainingGames = state.toAssign - state.counts\n",
    "        if(remainingGames.sum()<2):\n",
    "            return ()\n",
    "        \n",
    "        # XConflict are conflicting between 2 people, not more\n",
    "        canBeXConflict = state.getPrioritized().sum(axis=1)==2\n",
    "\n",
    "        for memberAIndex in np.arange(state.members.shape[0]-1):\n",
    "            if(remainingGames[memberAIndex]<2):\n",
    "                break\n",
    "            memberAFirstTwo = np.argsort(state.rankings[:,memberAIndex])[0:2]\n",
    "            for memberBIndex in np.arange(1,state.members.shape[0]):\n",
    "                if(remainingGames[memberBIndex]<2):\n",
    "                    break\n",
    "                memberBFirstTwo = np.argsort(state.rankings[:,memberBIndex])[0:2]\n",
    "                # memberA has (0,1) and memberB has (1,0)\n",
    "                if (np.any(memberAFirstTwo != memberBFirstTwo[-1::-1])):\n",
    "                    break\n",
    "                # last check:\n",
    "                if np.all(canBeXConflict[memberAFirstTwo]):\n",
    "                    # Returns the two (object, member) tuples\n",
    "                    return ((state.objects[memberAFirstTwo[0]],state.members[memberAIndex]),(state.objects[memberBFirstTwo[0]],state.members[memberBIndex]))\n",
    "        # No X Conflict can be found\n",
    "        return ()         \n",
    "\n",
    "    def apply(self, state: Division) -> list[Division]:\n",
    "        for conflict in self.xConflict(state): \n",
    "            state = state.assignObject(conflict[0], conflict[1]) \n",
    "        return [state]\n",
    "\n",
    "    def refresh(self, states):\n",
    "        pass"
   ]
  },
  {
   "cell_type": "code",
   "execution_count": 19,
   "metadata": {},
   "outputs": [],
   "source": [
    "xConflict: Rule = XConflict()\n",
    "xState = Division(matrix=XRanking)\n",
    "newXState = xConflict.apply(xState)"
   ]
  },
  {
   "cell_type": "code",
   "execution_count": 20,
   "metadata": {},
   "outputs": [
    {
     "data": {
      "text/markdown": [
       "|                                   |   Alessio |   Marco |   Andrea |\n",
       "|:----------------------------------|----------:|--------:|---------:|\n",
       "| Ghostrunner                       |         1 |       2 |        4 |\n",
       "| Monster Sanctuary                 |         2 |       1 |        3 |\n",
       "| Naruto to Boruto: Shinobi Striker |         3 |       3 |        2 |\n",
       "| Killsquad                         |         4 |       4 |        1 |\n",
       "| KillsquadA                        |         5 |       5 |        5 |\n",
       "| KillsquadB                        |         6 |       6 |        6 |"
      ],
      "text/plain": [
       "<IPython.core.display.Markdown object>"
      ]
     },
     "metadata": {},
     "output_type": "display_data"
    },
    {
     "data": {
      "text/markdown": [
       "| Alessio   | Marco   | Andrea   |\n",
       "|-----------|---------|----------|"
      ],
      "text/plain": [
       "<IPython.core.display.Markdown object>"
      ]
     },
     "metadata": {},
     "output_type": "display_data"
    },
    {
     "name": "stdout",
     "output_type": "stream",
     "text": [
      "Assigned first place for both\n"
     ]
    },
    {
     "data": {
      "text/markdown": [
       "|                                   |   Alessio |   Marco |   Andrea |\n",
       "|:----------------------------------|----------:|--------:|---------:|\n",
       "| Naruto to Boruto: Shinobi Striker |         1 |       1 |        2 |\n",
       "| Killsquad                         |         2 |       2 |        1 |\n",
       "| KillsquadA                        |         3 |       3 |        3 |\n",
       "| KillsquadB                        |         4 |       4 |        4 |"
      ],
      "text/plain": [
       "<IPython.core.display.Markdown object>"
      ]
     },
     "metadata": {},
     "output_type": "display_data"
    },
    {
     "data": {
      "text/markdown": [
       "|    | Alessio     | Marco             | Andrea   |\n",
       "|---:|:------------|:------------------|:---------|\n",
       "|  0 | Ghostrunner | Monster Sanctuary |          |"
      ],
      "text/plain": [
       "<IPython.core.display.Markdown object>"
      ]
     },
     "metadata": {},
     "output_type": "display_data"
    }
   ],
   "source": [
    "xState.print()\n",
    "print(\"Assigned first place for both\")\n",
    "newXState[0].print()"
   ]
  },
  {
   "cell_type": "markdown",
   "metadata": {},
   "source": [
    "## Assign least wanted object to the one that wants it most based on previous state"
   ]
  },
  {
   "cell_type": "code",
   "execution_count": 21,
   "metadata": {},
   "outputs": [],
   "source": [
    "class FinishingLineConflict(Rule):\n",
    "    baseStateIndex:int\n",
    "    baseState:Division\n",
    "    def __init__(self, baseStateIndex:int):\n",
    "        self.baseStateIndex = baseStateIndex\n",
    "        self.baseState = None\n",
    "    def checkConditions(self, state: Division) -> bool:\n",
    "        return ((self.baseState!= None) & (state.firstConflict(checkEnoughRemaining=False)!=()))\n",
    "            \n",
    "    def apply(self, state: Division) -> list[Division]:\n",
    "        #assign least wanted one to the one who has it at an higher ranking in the passed state\n",
    "        state.order()\n",
    "        remaining = state.remaining()\n",
    "        objectToAssign = state.objects[-1]\n",
    "        indexInBaseState = np.argwhere(self.baseState.objects==objectToAssign)[0][0]\n",
    "        memberWhoMostWantsIt = np.array([state.members[i] for i in np.argsort(self.baseState.rankings[indexInBaseState,:]) if (remaining[i]>0).any()])\n",
    "        return [state.assignObject(objectToAssign, memberWhoMostWantsIt[0])]\n",
    "\n",
    "    def refresh(self, states):\n",
    "        if((self.baseState== None)&(len(states)>self.baseStateIndex)):\n",
    "            self.baseState=states[self.baseStateIndex]"
   ]
  },
  {
   "cell_type": "code",
   "execution_count": 22,
   "metadata": {},
   "outputs": [],
   "source": [
    "state = Division(matrix=InputRanking)\n",
    "finalConflict: Rule = FinishingLineConflict(0)\n",
    "finalConflict.refresh([state])\n",
    "newstate = finalConflict.apply(state)"
   ]
  },
  {
   "cell_type": "code",
   "execution_count": 23,
   "metadata": {},
   "outputs": [
    {
     "data": {
      "text/markdown": [
       "|                                   |   Alessio |   Marco |   Andrea |\n",
       "|:----------------------------------|----------:|--------:|---------:|\n",
       "| Ghostrunner                       |         5 |       3 |        2 |\n",
       "| Monster Sanctuary                 |         2 |       2 |        6 |\n",
       "| Naruto to Boruto: Shinobi Striker |         1 |       8 |        1 |\n",
       "| Killsquad                         |         3 |       5 |        3 |\n",
       "| Destroy All Humans!               |         4 |       4 |        4 |\n",
       "| Chicken Police                    |         8 |       1 |        8 |\n",
       "| Rougue Heroes                     |         6 |       6 |        5 |\n",
       "| Suzerain                          |         7 |       7 |        7 |"
      ],
      "text/plain": [
       "<IPython.core.display.Markdown object>"
      ]
     },
     "metadata": {},
     "output_type": "display_data"
    },
    {
     "data": {
      "text/markdown": [
       "| Alessio   | Marco   | Andrea   |\n",
       "|-----------|---------|----------|"
      ],
      "text/plain": [
       "<IPython.core.display.Markdown object>"
      ]
     },
     "metadata": {},
     "output_type": "display_data"
    },
    {
     "name": "stdout",
     "output_type": "stream",
     "text": [
      "Assign game in last position based to highest rank from another state\n"
     ]
    },
    {
     "data": {
      "text/markdown": [
       "|                                   |   Alessio |   Marco |   Andrea |\n",
       "|:----------------------------------|----------:|--------:|---------:|\n",
       "| Ghostrunner                       |         5 |       3 |        2 |\n",
       "| Monster Sanctuary                 |         2 |       2 |        6 |\n",
       "| Naruto to Boruto: Shinobi Striker |         1 |       7 |        1 |\n",
       "| Killsquad                         |         3 |       5 |        3 |\n",
       "| Destroy All Humans!               |         4 |       4 |        4 |\n",
       "| Chicken Police                    |         7 |       1 |        7 |\n",
       "| Rougue Heroes                     |         6 |       6 |        5 |"
      ],
      "text/plain": [
       "<IPython.core.display.Markdown object>"
      ]
     },
     "metadata": {},
     "output_type": "display_data"
    },
    {
     "data": {
      "text/markdown": [
       "|    | Alessio   | Marco   | Andrea   |\n",
       "|---:|:----------|:--------|:---------|\n",
       "|  0 | Suzerain  |         |          |"
      ],
      "text/plain": [
       "<IPython.core.display.Markdown object>"
      ]
     },
     "metadata": {},
     "output_type": "display_data"
    }
   ],
   "source": [
    "state.print()\n",
    "print(\"Assign game in last position based to highest rank from another state\")\n",
    "newstate[0].print()"
   ]
  },
  {
   "cell_type": "markdown",
   "metadata": {},
   "source": [
    "# Processing\n",
    "We now have a structure for both the input and state, and need to actually use the rules to process our matrix"
   ]
  },
  {
   "cell_type": "code",
   "execution_count": 24,
   "metadata": {},
   "outputs": [],
   "source": [
    "from queue import SimpleQueue\n",
    "class RankingProcessor:\n",
    "    # The various state traversed\n",
    "    divisionArray:list[Division]\n",
    "    # the preceding elements\n",
    "    prec:list[int]\n",
    "    # the leaf elements\n",
    "    leafs:list[int]\n",
    "    # list of rules by priority\n",
    "    rulesList:list[Rule]\n",
    "    def __init__(self, startingMatrix:npt.ArrayLike, rulesList:list[Rule]):\n",
    "        self.divisionArray = [Division(startingMatrix)]\n",
    "        self.prec = [0]\n",
    "        self.rulesList = rulesList\n",
    "        self.leafs=list()\n",
    "    def execute(self):\n",
    "        # Restarting\n",
    "        self.divisionArray = self.divisionArray[0:1]\n",
    "        self.prec = self.prec[0:1]\n",
    "        #Initialize Queue\n",
    "        queue:SimpleQueue = SimpleQueue()\n",
    "        queue.put(0)\n",
    "        while(not queue.empty()):\n",
    "            itemIndex = queue.get()\n",
    "            ruleApplied = False\n",
    "            printWithMarkdown(\"<b>State #\"+str(itemIndex)+\"</b>\"+(self.prec[itemIndex]!=itemIndex)*(\"( previous state #\"+str(self.prec[itemIndex])+\")\"))\n",
    "            self.divisionArray[itemIndex].print()\n",
    "            for rule in self.rulesList:\n",
    "                rule.refresh(self.divisionArray)\n",
    "                if(self.divisionArray[itemIndex].allDivided()):\n",
    "                    break\n",
    "                if (rule.checkConditions(self.divisionArray[itemIndex])):\n",
    "                    results = rule.apply(self.divisionArray[itemIndex])\n",
    "                    for result in results:\n",
    "                        queue.put(len(self.divisionArray))\n",
    "                        self.divisionArray.append(result)\n",
    "                        self.prec.append(itemIndex)\n",
    "                    printWithMarkdown(\"<b>applied \"+type(rule).__name__+\"</b>\")\n",
    "                    ruleApplied = True\n",
    "                    break\n",
    "            if(not ruleApplied):\n",
    "                self.leafs.append(itemIndex)\n"
   ]
  },
  {
   "cell_type": "code",
   "execution_count": 25,
   "metadata": {},
   "outputs": [],
   "source": [
    "InputRanking: npt.ArrayLike = np.array([\n",
    "    [\"Game\",                            \"Alessio\",  \"Marco\",    \"Andrea\"],\n",
    "    [\"Ghostrunner\",                     5,          3,          2],\n",
    "    [\"Monster Sanctuary\",               2,          2,          6],\n",
    "    [\"Naruto to Boruto: Shinobi Striker\", 1,         8,          1],\n",
    "    [\"Killsquad\",                       3,          5,          3],\n",
    "    [\"Destroy All Humans!\",             4,          4,          4],\n",
    "    [\"Chicken Police\",                  8,          1,          8],\n",
    "    [\"Rougue Heroes\",                   6,          6,          5],\n",
    "    [\"Suzerain\",                        7,          7,          7]\n",
    "])"
   ]
  },
  {
   "cell_type": "code",
   "execution_count": 26,
   "metadata": {},
   "outputs": [],
   "source": [
    "rulesList = [\n",
    "    AssignMostWanted(\"Alessio\"),\n",
    "    AssignNoConflict(),\n",
    "    XConflict(),\n",
    "    StartingLineConflict(),\n",
    "    FinishingLineConflict(1)\n",
    "]"
   ]
  },
  {
   "cell_type": "code",
   "execution_count": 27,
   "metadata": {},
   "outputs": [],
   "source": [
    "processor = RankingProcessor(InputRanking, rulesList)"
   ]
  },
  {
   "cell_type": "code",
   "execution_count": 28,
   "metadata": {},
   "outputs": [
    {
     "data": {
      "text/markdown": [
       "<b>State #0</b>"
      ],
      "text/plain": [
       "<IPython.core.display.Markdown object>"
      ]
     },
     "metadata": {},
     "output_type": "display_data"
    },
    {
     "data": {
      "text/markdown": [
       "|                                   |   Alessio |   Marco |   Andrea |\n",
       "|:----------------------------------|----------:|--------:|---------:|\n",
       "| Ghostrunner                       |         5 |       3 |        2 |\n",
       "| Monster Sanctuary                 |         2 |       2 |        6 |\n",
       "| Naruto to Boruto: Shinobi Striker |         1 |       8 |        1 |\n",
       "| Killsquad                         |         3 |       5 |        3 |\n",
       "| Destroy All Humans!               |         4 |       4 |        4 |\n",
       "| Chicken Police                    |         8 |       1 |        8 |\n",
       "| Rougue Heroes                     |         6 |       6 |        5 |\n",
       "| Suzerain                          |         7 |       7 |        7 |"
      ],
      "text/plain": [
       "<IPython.core.display.Markdown object>"
      ]
     },
     "metadata": {},
     "output_type": "display_data"
    },
    {
     "data": {
      "text/markdown": [
       "| Alessio   | Marco   | Andrea   |\n",
       "|-----------|---------|----------|"
      ],
      "text/plain": [
       "<IPython.core.display.Markdown object>"
      ]
     },
     "metadata": {},
     "output_type": "display_data"
    },
    {
     "data": {
      "text/markdown": [
       "<b>applied AssignMostWanted</b>"
      ],
      "text/plain": [
       "<IPython.core.display.Markdown object>"
      ]
     },
     "metadata": {},
     "output_type": "display_data"
    },
    {
     "data": {
      "text/markdown": [
       "<b>State #1</b>( previous state #0)"
      ],
      "text/plain": [
       "<IPython.core.display.Markdown object>"
      ]
     },
     "metadata": {},
     "output_type": "display_data"
    },
    {
     "data": {
      "text/markdown": [
       "|                     |   Alessio |   Marco |   Andrea |\n",
       "|:--------------------|----------:|--------:|---------:|\n",
       "| Ghostrunner         |         4 |       3 |        1 |\n",
       "| Monster Sanctuary   |         1 |       2 |        5 |\n",
       "| Killsquad           |         2 |       5 |        2 |\n",
       "| Destroy All Humans! |         3 |       4 |        3 |\n",
       "| Chicken Police      |         7 |       1 |        7 |\n",
       "| Rougue Heroes       |         5 |       6 |        4 |\n",
       "| Suzerain            |         6 |       7 |        6 |"
      ],
      "text/plain": [
       "<IPython.core.display.Markdown object>"
      ]
     },
     "metadata": {},
     "output_type": "display_data"
    },
    {
     "data": {
      "text/markdown": [
       "|    | Alessio                           | Marco   | Andrea   |\n",
       "|---:|:----------------------------------|:--------|:---------|\n",
       "|  0 | Naruto to Boruto: Shinobi Striker |         |          |"
      ],
      "text/plain": [
       "<IPython.core.display.Markdown object>"
      ]
     },
     "metadata": {},
     "output_type": "display_data"
    },
    {
     "data": {
      "text/markdown": [
       "<b>applied AssignNoConflict</b>"
      ],
      "text/plain": [
       "<IPython.core.display.Markdown object>"
      ]
     },
     "metadata": {},
     "output_type": "display_data"
    },
    {
     "data": {
      "text/markdown": [
       "<b>State #2</b>( previous state #1)"
      ],
      "text/plain": [
       "<IPython.core.display.Markdown object>"
      ]
     },
     "metadata": {},
     "output_type": "display_data"
    },
    {
     "data": {
      "text/markdown": [
       "|                   |   Alessio |   Marco |   Andrea |\n",
       "|:------------------|----------:|--------:|---------:|\n",
       "| Monster Sanctuary |         1 |       1 |        3 |\n",
       "| Killsquad         |         2 |       2 |        1 |\n",
       "| Rougue Heroes     |         3 |       3 |        2 |\n",
       "| Suzerain          |         4 |       4 |        4 |"
      ],
      "text/plain": [
       "<IPython.core.display.Markdown object>"
      ]
     },
     "metadata": {},
     "output_type": "display_data"
    },
    {
     "data": {
      "text/markdown": [
       "|    | Alessio                           | Marco          | Andrea      |\n",
       "|---:|:----------------------------------|:---------------|:------------|\n",
       "|  0 | Naruto to Boruto: Shinobi Striker | Chicken Police | Ghostrunner |\n",
       "|  1 | Destroy All Humans!               |                |             |"
      ],
      "text/plain": [
       "<IPython.core.display.Markdown object>"
      ]
     },
     "metadata": {},
     "output_type": "display_data"
    },
    {
     "data": {
      "text/markdown": [
       "<b>applied FinishingLineConflict</b>"
      ],
      "text/plain": [
       "<IPython.core.display.Markdown object>"
      ]
     },
     "metadata": {},
     "output_type": "display_data"
    },
    {
     "data": {
      "text/markdown": [
       "<b>State #3</b>( previous state #2)"
      ],
      "text/plain": [
       "<IPython.core.display.Markdown object>"
      ]
     },
     "metadata": {},
     "output_type": "display_data"
    },
    {
     "data": {
      "text/markdown": [
       "|                   |   Alessio |   Marco |   Andrea |\n",
       "|:------------------|----------:|--------:|---------:|\n",
       "| Killsquad         |         2 |       2 |        1 |\n",
       "| Monster Sanctuary |         1 |       1 |        3 |\n",
       "| Rougue Heroes     |         3 |       3 |        2 |"
      ],
      "text/plain": [
       "<IPython.core.display.Markdown object>"
      ]
     },
     "metadata": {},
     "output_type": "display_data"
    },
    {
     "data": {
      "text/markdown": [
       "|    | Alessio                           | Marco          | Andrea      |\n",
       "|---:|:----------------------------------|:---------------|:------------|\n",
       "|  0 | Naruto to Boruto: Shinobi Striker | Chicken Police | Ghostrunner |\n",
       "|  1 | Destroy All Humans!               |                |             |\n",
       "|  2 | Suzerain                          |                |             |"
      ],
      "text/plain": [
       "<IPython.core.display.Markdown object>"
      ]
     },
     "metadata": {},
     "output_type": "display_data"
    },
    {
     "data": {
      "text/markdown": [
       "<b>applied AssignNoConflict</b>"
      ],
      "text/plain": [
       "<IPython.core.display.Markdown object>"
      ]
     },
     "metadata": {},
     "output_type": "display_data"
    },
    {
     "data": {
      "text/markdown": [
       "<b>State #4</b>( previous state #3)"
      ],
      "text/plain": [
       "<IPython.core.display.Markdown object>"
      ]
     },
     "metadata": {},
     "output_type": "display_data"
    },
    {
     "data": {
      "text/markdown": [
       "|                   |   Alessio |   Marco |   Andrea |\n",
       "|:------------------|----------:|--------:|---------:|\n",
       "| Monster Sanctuary |         1 |       1 |        2 |\n",
       "| Rougue Heroes     |         2 |       2 |        1 |"
      ],
      "text/plain": [
       "<IPython.core.display.Markdown object>"
      ]
     },
     "metadata": {},
     "output_type": "display_data"
    },
    {
     "data": {
      "text/markdown": [
       "|    | Alessio                           | Marco          | Andrea      |\n",
       "|---:|:----------------------------------|:---------------|:------------|\n",
       "|  0 | Naruto to Boruto: Shinobi Striker | Chicken Police | Ghostrunner |\n",
       "|  1 | Destroy All Humans!               |                | Killsquad   |\n",
       "|  2 | Suzerain                          |                |             |"
      ],
      "text/plain": [
       "<IPython.core.display.Markdown object>"
      ]
     },
     "metadata": {},
     "output_type": "display_data"
    },
    {
     "data": {
      "text/markdown": [
       "<b>applied FinishingLineConflict</b>"
      ],
      "text/plain": [
       "<IPython.core.display.Markdown object>"
      ]
     },
     "metadata": {},
     "output_type": "display_data"
    },
    {
     "data": {
      "text/markdown": [
       "<b>State #5</b>( previous state #4)"
      ],
      "text/plain": [
       "<IPython.core.display.Markdown object>"
      ]
     },
     "metadata": {},
     "output_type": "display_data"
    },
    {
     "data": {
      "text/markdown": [
       "|                   |   Alessio |   Marco |   Andrea |\n",
       "|:------------------|----------:|--------:|---------:|\n",
       "| Monster Sanctuary |         1 |       1 |        1 |"
      ],
      "text/plain": [
       "<IPython.core.display.Markdown object>"
      ]
     },
     "metadata": {},
     "output_type": "display_data"
    },
    {
     "data": {
      "text/markdown": [
       "|    | Alessio                           | Marco          | Andrea      |\n",
       "|---:|:----------------------------------|:---------------|:------------|\n",
       "|  0 | Naruto to Boruto: Shinobi Striker | Chicken Police | Ghostrunner |\n",
       "|  1 | Destroy All Humans!               |                | Killsquad   |\n",
       "|  2 | Suzerain                          |                |             |\n",
       "|  3 | Rougue Heroes                     |                |             |"
      ],
      "text/plain": [
       "<IPython.core.display.Markdown object>"
      ]
     },
     "metadata": {},
     "output_type": "display_data"
    },
    {
     "data": {
      "text/markdown": [
       "<b>applied AssignNoConflict</b>"
      ],
      "text/plain": [
       "<IPython.core.display.Markdown object>"
      ]
     },
     "metadata": {},
     "output_type": "display_data"
    },
    {
     "data": {
      "text/markdown": [
       "<b>State #6</b>( previous state #5)"
      ],
      "text/plain": [
       "<IPython.core.display.Markdown object>"
      ]
     },
     "metadata": {},
     "output_type": "display_data"
    },
    {
     "data": {
      "text/markdown": [
       "| Alessio   | Marco   | Andrea   |\n",
       "|-----------|---------|----------|"
      ],
      "text/plain": [
       "<IPython.core.display.Markdown object>"
      ]
     },
     "metadata": {},
     "output_type": "display_data"
    },
    {
     "data": {
      "text/markdown": [
       "|    | Alessio                           | Marco             | Andrea      |\n",
       "|---:|:----------------------------------|:------------------|:------------|\n",
       "|  0 | Naruto to Boruto: Shinobi Striker | Chicken Police    | Ghostrunner |\n",
       "|  1 | Destroy All Humans!               | Monster Sanctuary | Killsquad   |\n",
       "|  2 | Suzerain                          |                   |             |\n",
       "|  3 | Rougue Heroes                     |                   |             |"
      ],
      "text/plain": [
       "<IPython.core.display.Markdown object>"
      ]
     },
     "metadata": {},
     "output_type": "display_data"
    }
   ],
   "source": [
    "processor.execute()"
   ]
  },
  {
   "cell_type": "code",
   "execution_count": 29,
   "metadata": {},
   "outputs": [],
   "source": [
    "InputRanking: npt.ArrayLike = np.array([\n",
    "    [\"Game\",                            \"Alessio\",  \"Marco\",    \"Andrea\"],\n",
    "    [\"Iron Harvest\",                    1,          2,          7],\n",
    "    [\"Mafia: Definitive Edition\",       10,         1,          1],\n",
    "    [\"Retrowave\",                       5,          5,          2],\n",
    "    [\"Between the Stars\",               4,          4,          8],\n",
    "    [\"Project Winter\",                  3,          3,          10],\n",
    "    [\"Midnight Protocol\",               9,          6,          3],\n",
    "    [\"The Henry Stickmin Collection\",   7,          7,          5],\n",
    "    [\"Rebel Cops\",                      2,          9,          9],\n",
    "    [\"Rustler\",                         6,          10,         4],\n",
    "    [\"Farmer’s Dynasty\",                8,          8,          6]\n",
    "])\n",
    "rulesList = [\n",
    "    AssignMostWanted(\"Alessio\"),\n",
    "    AssignNoConflict(),\n",
    "    XConflict(),\n",
    "    StartingLineConflict(),\n",
    "    FinishingLineConflict(1)\n",
    "]"
   ]
  },
  {
   "cell_type": "code",
   "execution_count": 30,
   "metadata": {},
   "outputs": [
    {
     "data": {
      "text/markdown": [
       "<b>State #0</b>"
      ],
      "text/plain": [
       "<IPython.core.display.Markdown object>"
      ]
     },
     "metadata": {},
     "output_type": "display_data"
    },
    {
     "data": {
      "text/markdown": [
       "|                               |   Alessio |   Marco |   Andrea |\n",
       "|:------------------------------|----------:|--------:|---------:|\n",
       "| Iron Harvest                  |         1 |       2 |        7 |\n",
       "| Mafia: Definitive Edition     |        10 |       1 |        1 |\n",
       "| Retrowave                     |         5 |       5 |        2 |\n",
       "| Between the Stars             |         4 |       4 |        8 |\n",
       "| Project Winter                |         3 |       3 |       10 |\n",
       "| Midnight Protocol             |         9 |       6 |        3 |\n",
       "| The Henry Stickmin Collection |         7 |       7 |        5 |\n",
       "| Rebel Cops                    |         2 |       9 |        9 |\n",
       "| Rustler                       |         6 |      10 |        4 |\n",
       "| Farmer’s Dynasty              |         8 |       8 |        6 |"
      ],
      "text/plain": [
       "<IPython.core.display.Markdown object>"
      ]
     },
     "metadata": {},
     "output_type": "display_data"
    },
    {
     "data": {
      "text/markdown": [
       "| Alessio   | Marco   | Andrea   |\n",
       "|-----------|---------|----------|"
      ],
      "text/plain": [
       "<IPython.core.display.Markdown object>"
      ]
     },
     "metadata": {},
     "output_type": "display_data"
    },
    {
     "data": {
      "text/markdown": [
       "<b>applied AssignMostWanted</b>"
      ],
      "text/plain": [
       "<IPython.core.display.Markdown object>"
      ]
     },
     "metadata": {},
     "output_type": "display_data"
    },
    {
     "data": {
      "text/markdown": [
       "<b>State #1</b>( previous state #0)"
      ],
      "text/plain": [
       "<IPython.core.display.Markdown object>"
      ]
     },
     "metadata": {},
     "output_type": "display_data"
    },
    {
     "data": {
      "text/markdown": [
       "|                               |   Alessio |   Marco |   Andrea |\n",
       "|:------------------------------|----------:|--------:|---------:|\n",
       "| Mafia: Definitive Edition     |         9 |       1 |        1 |\n",
       "| Retrowave                     |         4 |       4 |        2 |\n",
       "| Between the Stars             |         3 |       3 |        7 |\n",
       "| Project Winter                |         2 |       2 |        9 |\n",
       "| Midnight Protocol             |         8 |       5 |        3 |\n",
       "| The Henry Stickmin Collection |         6 |       6 |        5 |\n",
       "| Rebel Cops                    |         1 |       8 |        8 |\n",
       "| Rustler                       |         5 |       9 |        4 |\n",
       "| Farmer’s Dynasty              |         7 |       7 |        6 |"
      ],
      "text/plain": [
       "<IPython.core.display.Markdown object>"
      ]
     },
     "metadata": {},
     "output_type": "display_data"
    },
    {
     "data": {
      "text/markdown": [
       "|    | Alessio      | Marco   | Andrea   |\n",
       "|---:|:-------------|:--------|:---------|\n",
       "|  0 | Iron Harvest |         |          |"
      ],
      "text/plain": [
       "<IPython.core.display.Markdown object>"
      ]
     },
     "metadata": {},
     "output_type": "display_data"
    },
    {
     "data": {
      "text/markdown": [
       "<b>applied AssignNoConflict</b>"
      ],
      "text/plain": [
       "<IPython.core.display.Markdown object>"
      ]
     },
     "metadata": {},
     "output_type": "display_data"
    },
    {
     "data": {
      "text/markdown": [
       "<b>State #2</b>( previous state #1)"
      ],
      "text/plain": [
       "<IPython.core.display.Markdown object>"
      ]
     },
     "metadata": {},
     "output_type": "display_data"
    },
    {
     "data": {
      "text/markdown": [
       "|                               |   Alessio |   Marco |   Andrea |\n",
       "|:------------------------------|----------:|--------:|---------:|\n",
       "| Mafia: Definitive Edition     |         6 |       1 |        1 |\n",
       "| Between the Stars             |         2 |       3 |        5 |\n",
       "| Project Winter                |         1 |       2 |        6 |\n",
       "| The Henry Stickmin Collection |         4 |       4 |        3 |\n",
       "| Rustler                       |         3 |       6 |        2 |\n",
       "| Farmer’s Dynasty              |         5 |       5 |        4 |"
      ],
      "text/plain": [
       "<IPython.core.display.Markdown object>"
      ]
     },
     "metadata": {},
     "output_type": "display_data"
    },
    {
     "data": {
      "text/markdown": [
       "|    | Alessio      | Marco   | Andrea            |\n",
       "|---:|:-------------|:--------|:------------------|\n",
       "|  0 | Iron Harvest |         | Retrowave         |\n",
       "|  1 | Rebel Cops   |         | Midnight Protocol |"
      ],
      "text/plain": [
       "<IPython.core.display.Markdown object>"
      ]
     },
     "metadata": {},
     "output_type": "display_data"
    },
    {
     "data": {
      "text/markdown": [
       "<b>applied FinishingLineConflict</b>"
      ],
      "text/plain": [
       "<IPython.core.display.Markdown object>"
      ]
     },
     "metadata": {},
     "output_type": "display_data"
    },
    {
     "data": {
      "text/markdown": [
       "<b>State #3</b>( previous state #2)"
      ],
      "text/plain": [
       "<IPython.core.display.Markdown object>"
      ]
     },
     "metadata": {},
     "output_type": "display_data"
    },
    {
     "data": {
      "text/markdown": [
       "|                               |   Alessio |   Marco |   Andrea |\n",
       "|:------------------------------|----------:|--------:|---------:|\n",
       "| Mafia: Definitive Edition     |         5 |       1 |        1 |\n",
       "| Project Winter                |         1 |       2 |        5 |\n",
       "| Between the Stars             |         2 |       3 |        4 |\n",
       "| Rustler                       |         3 |       5 |        2 |\n",
       "| The Henry Stickmin Collection |         4 |       4 |        3 |"
      ],
      "text/plain": [
       "<IPython.core.display.Markdown object>"
      ]
     },
     "metadata": {},
     "output_type": "display_data"
    },
    {
     "data": {
      "text/markdown": [
       "|    | Alessio      | Marco   | Andrea            |\n",
       "|---:|:-------------|:--------|:------------------|\n",
       "|  0 | Iron Harvest |         | Retrowave         |\n",
       "|  1 | Rebel Cops   |         | Midnight Protocol |\n",
       "|  2 |              |         | Farmer’s Dynasty  |"
      ],
      "text/plain": [
       "<IPython.core.display.Markdown object>"
      ]
     },
     "metadata": {},
     "output_type": "display_data"
    },
    {
     "data": {
      "text/markdown": [
       "<b>applied AssignNoConflict</b>"
      ],
      "text/plain": [
       "<IPython.core.display.Markdown object>"
      ]
     },
     "metadata": {},
     "output_type": "display_data"
    },
    {
     "data": {
      "text/markdown": [
       "<b>State #4</b>( previous state #3)"
      ],
      "text/plain": [
       "<IPython.core.display.Markdown object>"
      ]
     },
     "metadata": {},
     "output_type": "display_data"
    },
    {
     "data": {
      "text/markdown": [
       "|                               |   Alessio |   Marco |   Andrea |\n",
       "|:------------------------------|----------:|--------:|---------:|\n",
       "| Project Winter                |         1 |       1 |        4 |\n",
       "| Between the Stars             |         2 |       2 |        3 |\n",
       "| Rustler                       |         3 |       4 |        1 |\n",
       "| The Henry Stickmin Collection |         4 |       3 |        2 |"
      ],
      "text/plain": [
       "<IPython.core.display.Markdown object>"
      ]
     },
     "metadata": {},
     "output_type": "display_data"
    },
    {
     "data": {
      "text/markdown": [
       "|    | Alessio      | Marco                     | Andrea            |\n",
       "|---:|:-------------|:--------------------------|:------------------|\n",
       "|  0 | Iron Harvest | Mafia: Definitive Edition | Retrowave         |\n",
       "|  1 | Rebel Cops   |                           | Midnight Protocol |\n",
       "|  2 |              |                           | Farmer’s Dynasty  |"
      ],
      "text/plain": [
       "<IPython.core.display.Markdown object>"
      ]
     },
     "metadata": {},
     "output_type": "display_data"
    },
    {
     "data": {
      "text/markdown": [
       "<b>applied StartingLineConflict</b>"
      ],
      "text/plain": [
       "<IPython.core.display.Markdown object>"
      ]
     },
     "metadata": {},
     "output_type": "display_data"
    },
    {
     "data": {
      "text/markdown": [
       "<b>State #5</b>( previous state #4)"
      ],
      "text/plain": [
       "<IPython.core.display.Markdown object>"
      ]
     },
     "metadata": {},
     "output_type": "display_data"
    },
    {
     "data": {
      "text/markdown": [
       "|                               |   Alessio |   Marco |   Andrea |\n",
       "|:------------------------------|----------:|--------:|---------:|\n",
       "| Between the Stars             |         1 |       1 |        3 |\n",
       "| Rustler                       |         2 |       3 |        1 |\n",
       "| The Henry Stickmin Collection |         3 |       2 |        2 |"
      ],
      "text/plain": [
       "<IPython.core.display.Markdown object>"
      ]
     },
     "metadata": {},
     "output_type": "display_data"
    },
    {
     "data": {
      "text/markdown": [
       "|    | Alessio        | Marco                     | Andrea            |\n",
       "|---:|:---------------|:--------------------------|:------------------|\n",
       "|  0 | Iron Harvest   | Mafia: Definitive Edition | Retrowave         |\n",
       "|  1 | Rebel Cops     |                           | Midnight Protocol |\n",
       "|  2 | Project Winter |                           | Farmer’s Dynasty  |"
      ],
      "text/plain": [
       "<IPython.core.display.Markdown object>"
      ]
     },
     "metadata": {},
     "output_type": "display_data"
    },
    {
     "data": {
      "text/markdown": [
       "<b>applied AssignNoConflict</b>"
      ],
      "text/plain": [
       "<IPython.core.display.Markdown object>"
      ]
     },
     "metadata": {},
     "output_type": "display_data"
    },
    {
     "data": {
      "text/markdown": [
       "<b>State #6</b>( previous state #4)"
      ],
      "text/plain": [
       "<IPython.core.display.Markdown object>"
      ]
     },
     "metadata": {},
     "output_type": "display_data"
    },
    {
     "data": {
      "text/markdown": [
       "|                               |   Alessio |   Marco |   Andrea |\n",
       "|:------------------------------|----------:|--------:|---------:|\n",
       "| Between the Stars             |         1 |       1 |        3 |\n",
       "| Rustler                       |         2 |       3 |        1 |\n",
       "| The Henry Stickmin Collection |         3 |       2 |        2 |"
      ],
      "text/plain": [
       "<IPython.core.display.Markdown object>"
      ]
     },
     "metadata": {},
     "output_type": "display_data"
    },
    {
     "data": {
      "text/markdown": [
       "|    | Alessio      | Marco                     | Andrea            |\n",
       "|---:|:-------------|:--------------------------|:------------------|\n",
       "|  0 | Iron Harvest | Mafia: Definitive Edition | Retrowave         |\n",
       "|  1 | Rebel Cops   | Project Winter            | Midnight Protocol |\n",
       "|  2 |              |                           | Farmer’s Dynasty  |"
      ],
      "text/plain": [
       "<IPython.core.display.Markdown object>"
      ]
     },
     "metadata": {},
     "output_type": "display_data"
    },
    {
     "data": {
      "text/markdown": [
       "<b>applied AssignNoConflict</b>"
      ],
      "text/plain": [
       "<IPython.core.display.Markdown object>"
      ]
     },
     "metadata": {},
     "output_type": "display_data"
    },
    {
     "data": {
      "text/markdown": [
       "<b>State #7</b>( previous state #5)"
      ],
      "text/plain": [
       "<IPython.core.display.Markdown object>"
      ]
     },
     "metadata": {},
     "output_type": "display_data"
    },
    {
     "data": {
      "text/markdown": [
       "|         |   Alessio |   Marco |   Andrea |\n",
       "|:--------|----------:|--------:|---------:|\n",
       "| Rustler |         1 |       1 |        1 |"
      ],
      "text/plain": [
       "<IPython.core.display.Markdown object>"
      ]
     },
     "metadata": {},
     "output_type": "display_data"
    },
    {
     "data": {
      "text/markdown": [
       "|    | Alessio        | Marco                         | Andrea            |\n",
       "|---:|:---------------|:------------------------------|:------------------|\n",
       "|  0 | Iron Harvest   | Mafia: Definitive Edition     | Retrowave         |\n",
       "|  1 | Rebel Cops     | Between the Stars             | Midnight Protocol |\n",
       "|  2 | Project Winter | The Henry Stickmin Collection | Farmer’s Dynasty  |"
      ],
      "text/plain": [
       "<IPython.core.display.Markdown object>"
      ]
     },
     "metadata": {},
     "output_type": "display_data"
    },
    {
     "data": {
      "text/markdown": [
       "<b>applied AssignNoConflict</b>"
      ],
      "text/plain": [
       "<IPython.core.display.Markdown object>"
      ]
     },
     "metadata": {},
     "output_type": "display_data"
    },
    {
     "data": {
      "text/markdown": [
       "<b>State #8</b>( previous state #6)"
      ],
      "text/plain": [
       "<IPython.core.display.Markdown object>"
      ]
     },
     "metadata": {},
     "output_type": "display_data"
    },
    {
     "data": {
      "text/markdown": [
       "|                               |   Alessio |   Marco |   Andrea |\n",
       "|:------------------------------|----------:|--------:|---------:|\n",
       "| The Henry Stickmin Collection |         1 |       1 |        1 |"
      ],
      "text/plain": [
       "<IPython.core.display.Markdown object>"
      ]
     },
     "metadata": {},
     "output_type": "display_data"
    },
    {
     "data": {
      "text/markdown": [
       "|    | Alessio           | Marco                     | Andrea            |\n",
       "|---:|:------------------|:--------------------------|:------------------|\n",
       "|  0 | Iron Harvest      | Mafia: Definitive Edition | Retrowave         |\n",
       "|  1 | Rebel Cops        | Project Winter            | Midnight Protocol |\n",
       "|  2 | Between the Stars |                           | Farmer’s Dynasty  |\n",
       "|  3 | Rustler           |                           |                   |"
      ],
      "text/plain": [
       "<IPython.core.display.Markdown object>"
      ]
     },
     "metadata": {},
     "output_type": "display_data"
    },
    {
     "data": {
      "text/markdown": [
       "<b>applied AssignNoConflict</b>"
      ],
      "text/plain": [
       "<IPython.core.display.Markdown object>"
      ]
     },
     "metadata": {},
     "output_type": "display_data"
    },
    {
     "data": {
      "text/markdown": [
       "<b>State #9</b>( previous state #7)"
      ],
      "text/plain": [
       "<IPython.core.display.Markdown object>"
      ]
     },
     "metadata": {},
     "output_type": "display_data"
    },
    {
     "data": {
      "text/markdown": [
       "| Alessio   | Marco   | Andrea   |\n",
       "|-----------|---------|----------|"
      ],
      "text/plain": [
       "<IPython.core.display.Markdown object>"
      ]
     },
     "metadata": {},
     "output_type": "display_data"
    },
    {
     "data": {
      "text/markdown": [
       "|    | Alessio        | Marco                         | Andrea            |\n",
       "|---:|:---------------|:------------------------------|:------------------|\n",
       "|  0 | Iron Harvest   | Mafia: Definitive Edition     | Retrowave         |\n",
       "|  1 | Rebel Cops     | Between the Stars             | Midnight Protocol |\n",
       "|  2 | Project Winter | The Henry Stickmin Collection | Farmer’s Dynasty  |\n",
       "|  3 | Rustler        |                               |                   |"
      ],
      "text/plain": [
       "<IPython.core.display.Markdown object>"
      ]
     },
     "metadata": {},
     "output_type": "display_data"
    },
    {
     "data": {
      "text/markdown": [
       "<b>State #10</b>( previous state #8)"
      ],
      "text/plain": [
       "<IPython.core.display.Markdown object>"
      ]
     },
     "metadata": {},
     "output_type": "display_data"
    },
    {
     "data": {
      "text/markdown": [
       "| Alessio   | Marco   | Andrea   |\n",
       "|-----------|---------|----------|"
      ],
      "text/plain": [
       "<IPython.core.display.Markdown object>"
      ]
     },
     "metadata": {},
     "output_type": "display_data"
    },
    {
     "data": {
      "text/markdown": [
       "|    | Alessio           | Marco                         | Andrea            |\n",
       "|---:|:------------------|:------------------------------|:------------------|\n",
       "|  0 | Iron Harvest      | Mafia: Definitive Edition     | Retrowave         |\n",
       "|  1 | Rebel Cops        | Project Winter                | Midnight Protocol |\n",
       "|  2 | Between the Stars | The Henry Stickmin Collection | Farmer’s Dynasty  |\n",
       "|  3 | Rustler           |                               |                   |"
      ],
      "text/plain": [
       "<IPython.core.display.Markdown object>"
      ]
     },
     "metadata": {},
     "output_type": "display_data"
    }
   ],
   "source": [
    "processor = RankingProcessor(InputRanking, rulesList)\n",
    "processor.execute()"
   ]
  },
  {
   "cell_type": "code",
   "execution_count": 31,
   "metadata": {},
   "outputs": [
    {
     "data": {
      "text/plain": [
       "array([[ True, False, False]])"
      ]
     },
     "execution_count": 31,
     "metadata": {},
     "output_type": "execute_result"
    }
   ],
   "source": [
    "InputRanking: npt.ArrayLike = np.array([\n",
    "    [\"Game\",                            \"Alessio\",  \"Marco\",    \"Andrea\"],\n",
    "    [\"Battletech + DLC\",                1,          3,          4],\n",
    "    [\"Sonic Mania\",                     2,          1,          1],\n",
    "    [\"The Spiral Scout\",                5,          6,          5],\n",
    "    [\"Planet Alpha\",                    6,          7,          7],\n",
    "    [\"Override: Mech City Bra\",         3,          2,          2],\n",
    "    [\"PUSS!\",                           4,          4,          6],\n",
    "    [\"Avernum 3: Ruined World\",         7,          5,          3]\n",
    "])\n",
    "rulesList = [\n",
    "    AssignMostWanted(\"Alessio\"),\n",
    "    AssignNoConflict(),\n",
    "    XConflict(),\n",
    "    StartingLineConflict(),\n",
    "    FinishingLineConflict(1)\n",
    "]"
   ]
  },
  {
   "cell_type": "code",
   "execution_count": 32,
   "metadata": {},
   "outputs": [
    {
     "data": {
      "text/plain": [
       "array([[ True, False, False]])"
      ]
     },
     "execution_count": 32,
     "metadata": {},
     "output_type": "execute_result"
    }
   ],
   "source": [
    "processor.divisionArray[7].getPrioritized()"
   ]
  },
  {
   "cell_type": "code",
   "execution_count": 33,
   "metadata": {},
   "outputs": [
    {
     "data": {
      "text/plain": [
       "array([1, 1, 1], dtype=int8)"
      ]
     },
     "execution_count": 33,
     "metadata": {},
     "output_type": "execute_result"
    }
   ],
   "source": [
    "processor.divisionArray[7].enabledPriority"
   ]
  },
  {
   "cell_type": "code",
   "execution_count": null,
   "metadata": {},
   "outputs": [],
   "source": []
  }
 ],
 "metadata": {
  "interpreter": {
   "hash": "39f2d76b0ac3270dbf404dd6797da5ac62f2c2471fe81783295b05d40e9af1d3"
  },
  "kernelspec": {
   "display_name": "Python 3.9.7 64-bit ('latest_python': conda)",
   "name": "python3"
  },
  "language_info": {
   "codemirror_mode": {
    "name": "ipython",
    "version": 3
   },
   "file_extension": ".py",
   "mimetype": "text/x-python",
   "name": "python",
   "nbconvert_exporter": "python",
   "pygments_lexer": "ipython3",
   "version": "3.9.7"
  },
  "orig_nbformat": 4
 },
 "nbformat": 4,
 "nbformat_minor": 2
}
